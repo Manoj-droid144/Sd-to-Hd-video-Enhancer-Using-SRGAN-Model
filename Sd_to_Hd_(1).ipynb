{
  "cells": [
    {
      "cell_type": "markdown",
      "source": [
        "# Sd to Hd Video Enhancement Using SRGAN"
      ],
      "metadata": {
        "id": "_ZefRIOC3D5r"
      }
    },
    {
      "cell_type": "code",
      "source": [
        "#Loading the datasets\n",
        "import gdown\n",
        "file_id = '150FNex0OfXOJzKciXRdo8Yu-lYV5ijUA'\n",
        "url = f'https://drive.google.com/uc?id={file_id}'\n",
        "output = 'dataset.zip'\n",
        "gdown.download(url, output, quiet=False)"
      ],
      "metadata": {
        "id": "IVZ68GuPFqEG"
      },
      "execution_count": null,
      "outputs": []
    },
    {
      "cell_type": "code",
      "source": [
        "#unzipping\n",
        "!unzip dataset.zip"
      ],
      "metadata": {
        "id": "k9lJzNNpImGD"
      },
      "execution_count": null,
      "outputs": []
    },
    {
      "cell_type": "code",
      "source": [
        "#Loading the model\n",
        "import gdown\n",
        "file_id = '1rft4jXu1Fs_vMMPIK8yXeEHvKlL1hJyp'\n",
        "url = f'https://drive.google.com/uc?id={file_id}'\n",
        "output = 'weights.zip'\n",
        "gdown.download(url, output, quiet=False)\n",
        "!unzip weights.zip"
      ],
      "metadata": {
        "id": "TdMqKZsNJvTz"
      },
      "execution_count": null,
      "outputs": []
    },
    {
      "cell_type": "code",
      "source": [
        "#Loading the input video\n",
        "file_id = '11pj6mGTgZgWEF_P8cILgEtaGoEqeVe9K'\n",
        "url = f'https://drive.google.com/uc?id={file_id}'\n",
        "output = '/content/sample.mp4'\n",
        "gdown.download(url, output, quiet=False)"
      ],
      "metadata": {
        "id": "z1WiVcrDjlm2"
      },
      "execution_count": null,
      "outputs": []
    },
    {
      "cell_type": "code",
      "source": [
        "import sys\n",
        "sys.path.append('/content/dataset')\n",
        "import sys\n",
        "sys.path.append('/content/weights')"
      ],
      "metadata": {
        "id": "zwWkeXBtLonN"
      },
      "execution_count": 7,
      "outputs": []
    },
    {
      "cell_type": "code",
      "execution_count": null,
      "metadata": {
        "id": "rmLEV7EAmiy8"
      },
      "outputs": [],
      "source": [
        "# Importing all necessary libraries\n",
        "import timeit\n",
        "import cv2\n",
        "import os\n",
        "import numpy as np\n",
        "from model import resolve_single\n",
        "from utils import load_image, plot_sample\n",
        "from model.srgan import generator\n",
        "\n",
        "# Reading the video from specified path\n",
        "cam = cv2.VideoCapture(\"/content/sample.mp4\")\n",
        "fps = cam.get(cv2.CAP_PROP_FPS)\n",
        "print(fps)\n",
        "\n",
        "try:\n",
        "\n",
        "    # Creating a folder named data\n",
        "    if not os.path.exists('data'):\n",
        "        os.makedirs('data')\n",
        "\n",
        "# if not created then raise error\n",
        "except OSError:\n",
        "    print ('Error: Creating directory of data')\n",
        "\n",
        "#frames Extraction from video\n",
        "currentframe = 0\n",
        "arr_img = []\n",
        "while(True):\n",
        "\n",
        "    # reading from frame\n",
        "    ret,frame = cam.read()\n",
        "\n",
        "    if ret:\n",
        "        # if video is still left continue creating images\n",
        "        name = './data/frame' + str(currentframe).zfill(3) + '.jpg'\n",
        "        print ('Creating...' + name)\n",
        "\n",
        "        # writing the extracted images\n",
        "        cv2.imwrite(name, frame)\n",
        "\n",
        "        # increasing counter so that it will show how many frames are created\n",
        "        currentframe += 1\n",
        "        #storing the path of extracted frames in a list\n",
        "        arr_img.append(name)\n",
        "    else:\n",
        "        break\n",
        "\n",
        "#print(arr_img)\n",
        "start = timeit.default_timer()\n",
        "model = generator()\n",
        "model.load_weights('weights/srgan/gan_generator.h5')\n",
        "\n",
        "#Initialization of an empty list to store the super resolved images\n",
        "arr_output=[]\n",
        "print(len(arr_img))\n",
        "n= len(arr_img)\n",
        "\n",
        "#Implementation of SRGAN Model in extracted frames\n",
        "for i in range(n):\n",
        "  lr = load_image(arr_img[i])\n",
        "  sr = resolve_single(model, lr)\n",
        "\n",
        "  #plot_sample(lr, sr)\n",
        "  arr_output.append(sr)\n",
        "stop = timeit.default_timer()\n",
        "\n",
        "#print(arr_output)\n",
        "print(\"time : \", stop-start)\n",
        "\n",
        "# Release all space and windows once done\n",
        "cam.release()\n",
        "cv2.destroyAllWindows()\n"
      ]
    },
    {
      "cell_type": "code",
      "source": [
        "#Importing necessary libraries\n",
        "from keras.preprocessing.image import load_img\n",
        "from keras.preprocessing.image import img_to_array\n",
        "from keras.preprocessing.image import array_to_img\n",
        "from keras.preprocessing.image import save_img\n",
        "\n",
        "#Initialization of an empty list to store the path of Super resolved frames\n",
        "s_res= []\n",
        "for j in range(len(arr_output)):\n",
        "  out_name = '/content/dataset/output_images/frame' + str(j).zfill(3) + '.jpg'\n",
        "  img_pil = array_to_img(arr_output[j])\n",
        "  img1 = save_img(out_name, img_pil)\n",
        "  s_res.append(out_name)\n"
      ],
      "metadata": {
        "id": "ULT8ccmHBtfH"
      },
      "execution_count": 9,
      "outputs": []
    },
    {
      "cell_type": "code",
      "source": [
        "#print(s_res)\n",
        "\n",
        "import cv2\n",
        "import numpy as np\n",
        "for i in range(len(s_res)):\n",
        "    filename=s_res[i]\n",
        "    #reading each files\n",
        "    img = cv2.imread(filename)\n",
        "    height, width, layers = img.shape\n",
        "    size = (width,height)\n",
        "\n",
        "fps = 20\n",
        "\n",
        "#Creation of output video\n",
        "out = cv2.VideoWriter('output.mp4',cv2.VideoWriter_fourcc(*'DIVX'), fps , size)\n",
        "\n",
        "#Writing Frames into video\n",
        "for i in range(len(s_res)):\n",
        "    out.write(cv2.imread(s_res[i]))\n",
        "out.release()\n"
      ],
      "metadata": {
        "id": "J1VR7K8dC0D_"
      },
      "execution_count": 10,
      "outputs": []
    }
  ],
  "metadata": {
    "colab": {
      "provenance": [],
      "gpuType": "T4"
    },
    "kernelspec": {
      "display_name": "Python 3",
      "name": "python3"
    },
    "language_info": {
      "name": "python"
    },
    "accelerator": "GPU"
  },
  "nbformat": 4,
  "nbformat_minor": 0
}